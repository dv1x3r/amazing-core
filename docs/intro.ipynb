{
 "metadata": {
  "language_info": {
   "codemirror_mode": {
    "name": "ipython",
    "version": 3
   },
   "file_extension": ".py",
   "mimetype": "text/x-python",
   "name": "python",
   "nbconvert_exporter": "python",
   "pygments_lexer": "ipython3",
   "version": "3.9.0-final"
  },
  "orig_nbformat": 2,
  "kernelspec": {
   "name": "python3",
   "display_name": "Python 3.9.0 64-bit",
   "metadata": {
    "interpreter": {
     "hash": "fd4a117acec48de91b88b7ba8943fb810da7041f9dc2e1638621412c574e0e9e"
    }
   }
  }
 },
 "nbformat": 4,
 "nbformat_minor": 2,
 "cells": [
  {
   "source": [
    "# Reverse Engineering the Game\n",
    "\n",
    "Game client is developed with Unity so the code can be decompiled with ILSpy. We are interested in digging **Assembly-CSharp.dll**, which contain game code including server-client communication. Server IP can be set in the **ServerConfig.xml** file located in the fame folder. We can use 127.0.0.1 for development purposes."
   ],
   "cell_type": "markdown",
   "metadata": {}
  },
  {
   "source": [
    "## Starting the Game\n",
    "\n",
    "After the splash screen we see the following statuses:\n",
    "\n",
    "1. Validating Connectivity...\n",
    "2. Waiting for Connection...\n",
    "3. Server Connection Closed! - Reconnecting\n",
    "4. Waiting for Connection... (infinite)\n",
    "\n",
    "Let's create a basic tcp (not http) server and see what we can get.\n",
    "\n",
    "```js\n",
    "const net = require('net');\n",
    "const server = net.createServer();\n",
    "server.listen(8182, '127.0.0.1');\n",
    "server.on('connection', socket => {\n",
    "  socket.on('data', data => {\n",
    "    console.log(`str: ${data}`);\n",
    "    console.log('hex:', data, data.byteLength, 'bytes', '\\n');\n",
    "  });\n",
    "});\n",
    "```\n",
    "\n",
    "- Spoilers: the first message from the client is 22 bytes: ```§ �\\♦m♀♀↑AmazingWorld```\n",
    "- hex: <15 20 c2 5c 04 6d 0c 0c 18 41 6d 61 7a 69 6e 67 57 6f 72 6c 64 00>"
   ],
   "cell_type": "markdown",
   "metadata": {}
  },
  {
   "source": [
    "## Binary World"
   ],
   "cell_type": "markdown",
   "metadata": {}
  },
  {
   "cell_type": "code",
   "execution_count": 1,
   "metadata": {},
   "outputs": [
    {
     "output_type": "stream",
     "name": "stdout",
     "text": [
      "bit   int    hex           bin       char\n1     21     15      0: 0001 0101    \u0015\n2     32     20      8: 0010 0000     \n3     194    c2     16: 1100 0010    \n4     92     5c     24: 0101 1100    \\\n5     4      04     32: 0000 0100    \u0004\n6     109    6d     40: 0110 1101    m\n7     12     0c     48: 0000 1100    \f\n8     12     0c     56: 0000 1100    \f\n9     24     18     64: 0001 1000    \u0018\n10    65     41     72: 0100 0001    A\n11    109    6d     80: 0110 1101    m\n12    97     61     88: 0110 0001    a\n13    122    7a     96: 0111 1010    z\n14    105    69    104: 0110 1001    i\n15    110    6e    112: 0110 1110    n\n16    103    67    120: 0110 0111    g\n17    87     57    128: 0101 0111    W\n18    111    6f    136: 0110 1111    o\n19    114    72    144: 0111 0010    r\n20    108    6c    152: 0110 1100    l\n21    100    64    160: 0110 0100    d\n22    0      00    168: 0000 0000    \u0000\n"
     ]
    }
   ],
   "source": [
    "def print_i(i_arr):\n",
    "    print('bit   int    hex           bin       char')\n",
    "    for bit, i in enumerate(i_arr):\n",
    "        int_str = str(i).ljust(3)\n",
    "        hex_str = hex(i)[2:].zfill(2)\n",
    "        bin_str = bin(i)[2:].zfill(8)\n",
    "        bin_str = str(bit * 8).rjust(3) + ': ' + bin_str[:4] + ' ' + bin_str[4:]\n",
    "        chr_str = chr(i) if i <= 127 else ''\n",
    "        bit = str(bit + 1).ljust(2)\n",
    "        print(bit, int_str, hex_str, bin_str, chr_str, sep='    ')\n",
    "\n",
    "src_hex = \"15 20 c2 5c 04 6d 0c 0c 18 41 6d 61 7a 69 6e 67 57 6f 72 6c 64 00\".split()\n",
    "src_int = list(map(lambda i: int(i, 16), src_hex))\n",
    "print_i(src_int)"
   ]
  },
  {
   "cell_type": "code",
   "execution_count": 2,
   "metadata": {},
   "outputs": [
    {
     "output_type": "stream",
     "name": "stdout",
     "text": [
      "It looks like the first byte contains message size: 21 bytes\nLast byte contain nothing: 0\n"
     ]
    }
   ],
   "source": [
    "print('It looks like the first byte contains message size:', src_int[0], 'bytes')\n",
    "print('Last byte contain nothing:', src_int[-1])"
   ]
  },
  {
   "source": [
    "## The fuck is this?\n",
    "\n",
    "- idk, lol. looks like serialized data structure with 'AmazingWorld' string\n",
    "- let's dig into the code by searching \"validating connectivity\" or \"AmazingWorld\"\n",
    "\n",
    "| Action                        | Where                                  | What happens                                                                                 |\n",
    "| ----------------------------- | -------------------------------------- | -------------------------------------------------------------------------------------------- |\n",
    "| 1. Server check start         | AkamaiServerCheck.Start()              | State = WaitingForServerCheck                                                                |\n",
    "| 2. Server check cycle         | AkamaiServerCheck.Update()             | \"Validating Connectivity...\"                                                                 |\n",
    "|                               |                                        | To pass server check, ServerCheckSuccess() should be called                                  |\n",
    "| 3. Create Session             | AkamaiServerCheck.CheckClientVersion() | State = WaitingForConnect                                                                    |\n",
    "|                               |                                        | **Call**: ClientManager.Instance.CreateSession()                                             |\n",
    "|                               |                                        | **Callback**: AkamaiServerCheck.OnConnect()                                                  |\n",
    "| 4. Send 'AmazingWorld'        | AkamaiServerCheck.OnConnect()          | **Call**: ClientManager.Instance.session.SendMessage()                                       |\n",
    "|                               |                                        | **Args**: serviceClass = 18, messageType = 566                                               |\n",
    "|                               |                                        | **Args**: GSFGetClientVersionInfoSvc.GSFRequest with 'AmazingWorld' as clientName            |\n",
    "|                               |                                        | **Callbacks**: GetClientVersionInfoResponseHandler() and GetClientVersionInfoErrorHandler()  |\n",
    "| 5. Game Spark Framework?      | GSFSession.SendMessage()               | Wraps request into the **new GSFRequestMessage(serviceClass, messageType, request)**         |\n",
    "| 6. Wrapping GSFRequestMessage | GSFRequestMessage.GSFRequestMessage()  | Timeout, discardable and type attributes added                                               |\n",
    "| 7. Continue to send message   | GSFSession._SendMessage()              | Add message to the **responseHandlers** and **outRequestQueue**                              |\n",
    "| 8. Write loop ?               | GSFSession.DoWriteLoop()               | I do not know the source event, but this is the only place where **outRequestQueue** is used |\n",
    "| 9. Write message from queue   | GSFSession.WriteMessage()              | Let's slow down a little bit, because binary stuff incoming!                                 |\n",
    "\n",
    "1. It was at this moment that he knew he f*cked up\n",
    "2. I created a debug project to trace message encoding process, see ./Amazing-Tester/Amazing-Tester.sln\n",
    "3. I wrote out, cleaned and commented all the necessary code parts for message serialization and bit encoding"
   ],
   "cell_type": "markdown",
   "metadata": {}
  },
  {
   "source": [
    "```cs\n",
    "class GSFSession {\n",
    "    void WriteMessage(GSFMessage call) {\n",
    "        MemoryStream memoryStream = new MemoryStream();\n",
    "        BinaryWriter writer = new BinaryWriter(memoryStream);\n",
    "        gSFBitProtocolCodec.WriteMessage(call, writer); // Converting GSFMessage into bytes\n",
    "        // ...\n",
    "        mProtocol.WriteLength((uint)num, writer); // Write message size in bytes\n",
    "        writer.Write(array); // Write message\n",
    "        writer.Write((byte)0); // Write 0 byte\n",
    "        // ...\n",
    "    }\n",
    "}\n",
    "```"
   ],
   "cell_type": "markdown",
   "metadata": {}
  },
  {
   "source": [
    "The message indeed consists of message size, message content and a zero byte. We are interested in encoding process, so let's dig into the gSFBitProtocolCodec.WriteMessage method."
   ],
   "cell_type": "markdown",
   "metadata": {}
  },
  {
   "source": [
    "```cs\n",
    "class GSFBitProtocolCodec {\n",
    "    void WriteMessage(GSFMessage msg, BinaryWriter writer) {\n",
    "        GSFIProtocolOutput gSFIProtocolOutput = new BitOutput();\n",
    "        gSFIProtocolOutput.OutputWriter = writer;\n",
    "        gSFIProtocolOutput.Write(msg); // Converting GSFMessage into bytes array\n",
    "        gSFIProtocolOutput.CommitToWriter();\n",
    "    }\n",
    "}\n",
    "```"
   ],
   "cell_type": "markdown",
   "metadata": {}
  },
  {
   "source": [
    "```cs\n",
    "class BitOutput {\n",
    "    GSFBitStream bitStream = new GSFBitStream();\n",
    "\n",
    "    Write(GSFIExternalizable o) {\n",
    "        if (!bitStream.Put(o == null)) { // if o != null\n",
    "            o.SerializeMembers(ProtocolType.Bit, this);\n",
    "        }\n",
    "    }\n",
    "\n",
    "    Write(int i) {\n",
    "        bitStream.PutIntCompressed(i);\n",
    "    }\n",
    "\n",
    "    void Write(string s) {\n",
    "        if (s != null)\n",
    "        {\n",
    "            byte[] array = GSFTextUtils.ToUtf8Bytes(s);\n",
    "            int num = array.Length;\n",
    "            bitStream.PutIntCompressed(num);\n",
    "            if (0 < num) {\n",
    "                bitStream.PutBytesAligned(array);\n",
    "            }\n",
    "        }\n",
    "        else {\n",
    "            bitStream.PutIntCompressed(-1);\n",
    "        }\n",
    "    }\n",
    "    \n",
    "}\n",
    "```"
   ],
   "cell_type": "markdown",
   "metadata": {}
  },
  {
   "source": [
    "```cs\n",
    "class MessageHeader : GSFIExternalizable {\n",
    "    void SerializeMembers(ProtocolType protocol, GSFIProtocolOutput output) {\n",
    "        output.Write(flags);\n",
    "        output.Write(svcClass);\n",
    "        output.Write(msgType);\n",
    "        if (IsService) {\n",
    "            output.Write(requestId);\n",
    "        }\n",
    "        if (IsRequest) {\n",
    "            output.Write(logCorrelator);\n",
    "        }\n",
    "    }\n",
    "}\n",
    "\n",
    "class GSFGetClientVersionInfoSvc : GSFClientService {\n",
    "    class GSFRequest : GSFService.GSFRequest {\n",
    "        public string clientName; // AmazingWorld\n",
    "        \n",
    "        void SerializeMembers(ProtocolType protocol, GSFIProtocolOutput output) {\n",
    "            base.SerializeMembers(protocol, output);\n",
    "            output.Write(clientName);\n",
    "        }\n",
    "    }\n",
    "}\n",
    "\n",
    "class GSFRequestMessage : GSFMessage {\n",
    "    void SerializeMembers(ProtocolType protocol, GSFIProtocolOutput output) {\n",
    "        base.SerializeMembers(protocol, output); // GSFMessage\n",
    "        output.Write(body); // GSFGetClientVersionInfoSvc.GSFRequest\n",
    "    }\n",
    "}\n",
    "\n",
    "class GSFMessage : GSFTransportObject {\n",
    "    void SerializeMembers(ProtocolType protocol, GSFIProtocolOutput output) {\n",
    "        base.SerializeMembers(protocol, output); // GSFTransportObject (blank)\n",
    "        output.Write(header); // MessageHeader -> Write(GSFIExternalizable o)\n",
    "    }\n",
    "}\n",
    "```"
   ],
   "cell_type": "markdown",
   "metadata": {}
  },
  {
   "source": [
    "1. When object is not a primitive type, write 0 and serialize it\n",
    "2. SerializeMembers methods send attributes back to the BitOutput encoder\n",
    "3. Going to the lowest Message level with base.SerializeMembers (MessageHeader)\n",
    "4. Write(flags) using bitStream.PutIntCompressed(i);"
   ],
   "cell_type": "markdown",
   "metadata": {}
  },
  {
   "source": [
    "```cs\n",
    "class GSFBitStream {\n",
    "    IntCompressor noCompress = new IntBytes();\n",
    "    IntCompressor compressor = new IntModeX(); // GetCompressor(90);\n",
    "\n",
    "    byte[] BM = new byte[8] { 128, 64, 32, 16, 8, 4, 2, 1 };\n",
    "    byte[] BML = new byte[8] { 0, 128, 192, 224, 240, 248, 252, 254 };\n",
    "    \n",
    "    int IndexByte(int index) => off + (index >> 3); // Buffer index according to the position (1 for 8 bits)\n",
    "    int IndexBit(int index) => index & 7; // Bit index accordint to the position (from 0 to 7)\n",
    "\n",
    "    GSFBitStream() {\n",
    "        off = 0; pos = 0; mark = -1;\n",
    "        buf = new byte[1024]; // new byte[IndexByte(8199)];\n",
    "        lim = 8192; cap = 8192; // buf.Length << 3;\n",
    "    }\n",
    "\n",
    "    bool Put(bool bit) {\n",
    "        // bit = GSFMessage == null\n",
    "        if (bit) { buf[IndexByte(pos)] |= BM[IndexBit(pos)]; } // Set current bit (1)\n",
    "        else { buf[IndexByte(pos)] &= (byte)(~BM[IndexBit(pos)]); }\n",
    "        pos++; return bit;\n",
    "    }\n",
    "\n",
    "    void PutByte(byte b) {\n",
    "        int num = IndexByte(pos);\n",
    "        int num2 = IndexBit(pos);\n",
    "        \n",
    "        if (num2 == 0) {\n",
    "            buf[num] = b; // Write the whole byte if position is in the beginning\n",
    "        }\n",
    "        else {\n",
    "            buf[num] &= BML[num2];\n",
    "            // Fill current bit with shifting to take only first part\n",
    "            buf[num] |= b >> IndexBit(pos);\n",
    "            // 0xFF >> 8 - IndexBit(pos) mask to get rest bits that will go to the next byte start\n",
    "            buf[num + 1] = (b & (0xFF >> 8 - IndexBit(pos))) << (8 - IndexBit(pos)); \n",
    "            // int num3 = (0xFF & b) << 8 - num2;\n",
    "            // buf[num] |= (byte)(num3 >> 8);\n",
    "            // buf[num + 1] = (byte)(BML[num2] & num3);\n",
    "        }\n",
    "        \n",
    "        pos += 8;\n",
    "    }\n",
    "\n",
    "    void PutIntCompressed(int val) {\n",
    "        compressor.Put(this, val, 4);\n",
    "    }    \n",
    "}\n",
    "```"
   ],
   "cell_type": "markdown",
   "metadata": {}
  },
  {
   "source": [
    "1. IndexByte returns current byte index inside the buffer\n",
    "2. IndexBit return current bit index inside the current byte\n",
    "3. Put enables or Disables current bit and increments current posision\n",
    "4. PutByte writes whole byte or divides value between current and next bytes"
   ],
   "cell_type": "markdown",
   "metadata": {}
  },
  {
   "cell_type": "code",
   "execution_count": 3,
   "metadata": {},
   "outputs": [
    {
     "output_type": "stream",
     "name": "stdout",
     "text": [
      "bit   int    hex           bin       char\n1     42     2a      0: 0010 1010    *\n"
     ]
    }
   ],
   "source": [
    "print_i([42]) # For example we want to write value 42\n",
    "position = 21 # Our current position is 21"
   ]
  },
  {
   "cell_type": "code",
   "execution_count": 4,
   "metadata": {},
   "outputs": [
    {
     "output_type": "stream",
     "name": "stdout",
     "text": [
      "index_byte: 2\nindex_bit: 5\n"
     ]
    }
   ],
   "source": [
    "index_byte = position >> 3\n",
    "index_bit = position & 7\n",
    "print('index_byte:', index_byte)\n",
    "print('index_bit:', index_bit)"
   ]
  },
  {
   "cell_type": "code",
   "execution_count": 5,
   "metadata": {},
   "outputs": [
    {
     "output_type": "stream",
     "name": "stdout",
     "text": [
      "bit   int    hex           bin       char\n1     42     2a      0: 0010 1010    *\n2     1      01      8: 0000 0001    \u0001\n3     80     50     16: 0101 0000    P\n"
     ]
    }
   ],
   "source": [
    "# Current index bit is 5, meaning we have 2 bits available in the current byte\n",
    "# Megning we should move value >> 5 to get 0000 0001 in the current and 0101 0000 in the next one\n",
    "current_bit = 42 >> index_bit\n",
    "next_bit = (42 & (0xFF >> 8 - index_bit)) << (8 - index_bit)\n",
    "print_i([42, current_bit, next_bit])"
   ]
  },
  {
   "source": [
    "```cs\n",
    "class IntModeX {\n",
    "    long[] _min = new long[9] { -8L, -128L, -32768L, -8388608L, -2147483648L, -549755813888L, -140737488355328L, -140737488355328L, -9223372036854775808L };\n",
    "    long[] _max = new long[9] { 7L, 127L, 32767L, 8388607L, 2147483647L, 549755813887L, 140737488355327L, 140737488355327L, 9223372036854775807L };\n",
    "\n",
    "    void Put(GSFBitStream bs, long val, int w) {\n",
    "        int i = 0;\n",
    "\n",
    "        // Increment i for every 4, 8 and 16 bits if value requires\n",
    "        for (; i < w && (val < _min[i] || val > _max[i]); i++) { }\n",
    "        // 0: (-8, 7), 1: (-128, 127), 2: (-32768, 32767), 3: (-8388608, 8388607)\n",
    "\n",
    "        if (bs.Put(i < w)) { // (1)\n",
    "            // (1) for every extra 4 bits + (0)\n",
    "            for (int j = 0; bs.Put(j < i) && j < w; j++) { }\n",
    "        }\n",
    "\n",
    "        if (i > 0) {\n",
    "            int num = (i - 1) * 8; // 1: 0, 2: 8, 3: 16\n",
    "            while (num >= 0) {\n",
    "                bs.PutByte((byte)(0xFFu & ((uint)val >> num)));\n",
    "                num -= 8;\n",
    "            }\n",
    "        }\n",
    "        else {\n",
    "            int num2 = 8; // Fill next 4 bytes with integer value\n",
    "            while (num2 > 0) {\n",
    "                bs.Put((num2 & val) != 0);\n",
    "                num2 >>= 1;\n",
    "            }\n",
    "        }\n",
    "    }\n",
    "}\n",
    "```"
   ],
   "cell_type": "markdown",
   "metadata": {}
  },
  {
   "source": [
    "## \"AmazingWorld\" Encoding Process"
   ],
   "cell_type": "markdown",
   "metadata": {}
  },
  {
   "cell_type": "code",
   "execution_count": 6,
   "metadata": {},
   "outputs": [
    {
     "output_type": "stream",
     "name": "stdout",
     "text": [
      "bit   int    hex           bin       char\n1     32     20      0: 0010 0000     \n2     194    c2      8: 1100 0010    \n3     92     5c     16: 0101 1100    \\\n4     4      04     24: 0000 0100    \u0004\n5     109    6d     32: 0110 1101    m\n6     12     0c     40: 0000 1100    \f\n7     12     0c     48: 0000 1100    \f\n8     24     18     56: 0001 1000    \u0018\n9     65     41     64: 0100 0001    A\n10    109    6d     72: 0110 1101    m\n11    97     61     80: 0110 0001    a\n12    122    7a     88: 0111 1010    z\n13    105    69     96: 0110 1001    i\n14    110    6e    104: 0110 1110    n\n15    103    67    112: 0110 0111    g\n16    87     57    120: 0101 0111    W\n17    111    6f    128: 0110 1111    o\n18    114    72    136: 0111 0010    r\n19    108    6c    144: 0110 1100    l\n20    100    64    152: 0110 0100    d\n21    0      00    160: 0000 0000    \u0000\n"
     ]
    }
   ],
   "source": [
    "print_i(src_int[1:])"
   ]
  },
  {
   "source": [
    "- 0: bitStream.Put(GSFRequestMessage == null) => False (0) => serialize deeper\n",
    "- 1: bitStream.Put(MessageHeader == null) => False (0) => serialize deeper"
   ],
   "cell_type": "markdown",
   "metadata": {}
  },
  {
   "source": [
    "flags = 0\n",
    "\n",
    "- 2: compressor.Put(this, MessageHeader.flags, 4) => bs.Put(i < w) => True (1)\n",
    "- 3: bs.Put(j < i) => no more bits needed => False (0)\n",
    "- 4: flags => (0)\n",
    "- 5: flags => (0)\n",
    "- 6: flags => (0)\n",
    "- 7: flags => (0)"
   ],
   "cell_type": "markdown",
   "metadata": {}
  },
  {
   "source": [
    "svcClass = 18\n",
    "\n",
    "- 8: compressor.Put(this, MessageHeader.svcClass, 4) => bs.Put(i < w) => True (1)\n",
    "- 9: bs.Put(j < i) => extra 4 bits => True (1)\n",
    "- 10: bs.Put(j < i) => no more bits needed => False (0)\n",
    "     - bs.PutByte(0xFF & (val >> 0))\n",
    "- 11: svcClass => (0)\n",
    "- 12: svcClass => (0)\n",
    "- 13: svcClass => (0)\n",
    "- 14: svcClass => (1)\n",
    "- 15: svcClass => (0)\n",
    "- 16: svcClass => (0)\n",
    "- 17: svcClass => (1)\n",
    "- 18: svcClass => (0)"
   ],
   "cell_type": "markdown",
   "metadata": {}
  },
  {
   "cell_type": "code",
   "execution_count": 7,
   "metadata": {},
   "outputs": [
    {
     "output_type": "stream",
     "name": "stdout",
     "text": [
      "bit   int    hex           bin       char\n1     18     12      0: 0001 0010    \u0012\n\n current byte\nbit   int    hex           bin       char\n1     2      02      0: 0000 0010    \u0002\n\n next byte\nbit   int    hex           bin       char\n1     64     40      0: 0100 0000    @\n"
     ]
    }
   ],
   "source": [
    "# IndexBit is not 0, so part of this int will go to the next byte\n",
    "print_i([18])\n",
    "\n",
    "print('\\n current byte')\n",
    "print_i([18 >> 3])\n",
    "\n",
    "print('\\n next byte')\n",
    "print_i([(18 & (0xFF >> 5)) << 5])"
   ]
  },
  {
   "source": [
    "msgType = 566\n",
    "\n",
    "- 19: compressor.Put(this, MessageHeader.msgType, 4) => bs.Put(i < w) => True (1)\n",
    "- 20: bs.Put(j < i) => extra 4 bits => True (1)\n",
    "- 21: bs.Put(j < i) => extra 8 bits => True (1)\n",
    "- 22: bs.Put(j < i) => no more bits needed => False (0)\n",
    "- 23: msgType first it => (0)\n",
    "- 24: msgType first it => (0)\n",
    "- 25: msgType first it => (0)\n",
    "- 26: msgType first it => (0)\n",
    "- 27: msgType first it => (0)\n",
    "- 28: msgType first it => (0)\n",
    "- 29: msgType first it => (1)\n",
    "- 30: msgType first it => (0)\n",
    "- 31: msgType second it => (0)\n",
    "- 32: msgType second it => (0)\n",
    "- 33: msgType second it => (1)\n",
    "- 34: msgType second it => (1)\n",
    "- 35: msgType second it => (0)\n",
    "- 36: msgType second it => (1)\n",
    "- 37: msgType second it => (1)\n",
    "- 38: msgType second it => (0)"
   ],
   "cell_type": "markdown",
   "metadata": {}
  },
  {
   "cell_type": "code",
   "execution_count": 8,
   "metadata": {},
   "outputs": [
    {
     "output_type": "stream",
     "name": "stdout",
     "text": [
      "bit   int    hex           bin       char\n1     566    236      0: 1000 110110    \n\n first iteration\nbit   int    hex           bin       char\n1     2      02      0: 0000 0010    \u0002\n\n second iteration\nbit   int    hex           bin       char\n1     54     36      0: 0011 0110    6\n"
     ]
    }
   ],
   "source": [
    "print_i([566])\n",
    "print('\\n first iteration')\n",
    "print_i([566 >> 8])\n",
    "print('\\n second iteration')\n",
    "print_i([0xFF & 566])"
   ]
  },
  {
   "source": [
    "- is_service = flags & 2 == 0\n",
    "- is_response = is_service & (flags & 1) != 0\n",
    "- is_request = is_service & (not is_response)\n",
    "- is_notify = flags & 2 != 0\n",
    "- is_discardable = flags & 16 != 0\n",
    "- if IsService then write requestId integer\n",
    "- if IsRequest then write logCorrelator string"
   ],
   "cell_type": "markdown",
   "metadata": {}
  },
  {
   "source": [
    "requestId = 1\n",
    "- 39: compressor.Put(this, MessageHeader.requestId, 4) => bs.Put(i < w) => True (1)\n",
    "- 40: bs.Put(j < i) => no more bits needed => False (0)\n",
    "- 41: requestId => (0)\n",
    "- 42: requestId => (0)\n",
    "- 43: requestId => (0)\n",
    "- 44: requestId => (1)"
   ],
   "cell_type": "markdown",
   "metadata": {}
  },
  {
   "source": [
    "logCorrelator = \"\"\n",
    "- 45: compressor.Put(this, logCorrelator.UTF8.Length, 4) => bs.Put(i < w) => True (1)\n",
    "- 46: bs.Put(j < i) => no more bits needed => False (0)\n",
    "- 47: length => (0)\n",
    "- 48: length => (0)\n",
    "- 49: length => (0)\n",
    "- 50: length => (0)"
   ],
   "cell_type": "markdown",
   "metadata": {}
  },
  {
   "source": [
    "- 51: bitStream.Put(GSFRequest == null) => False (0) => serialize deeper"
   ],
   "cell_type": "markdown",
   "metadata": {}
  },
  {
   "source": [
    "clientName = \"AmazingWorld\" (12)\n",
    "- 52: compressor.Put(this, clientName.UTF8.Length, 4) => bs.Put(i < w) => True (1)\n",
    "- 53: bs.Put(j < i) => extra 8 bits => True (1)\n",
    "- 54: bs.Put(j < i) => no more bits needed => False (0)\n",
    "- 55: length => 0\n",
    "- 56: length => 0\n",
    "- 57: length => 0\n",
    "- 58: length => 0\n",
    "- 59: length => 1\n",
    "- 60: length => 1\n",
    "- 61: length => 0\n",
    "- 62: length => 0\n",
    "- 63: align => 0\n",
    "- 64-159: AmazingWorld"
   ],
   "cell_type": "markdown",
   "metadata": {}
  },
  {
   "source": [
    "## Writing Data Length"
   ],
   "cell_type": "markdown",
   "metadata": {}
  },
  {
   "source": [
    "```cs\n",
    "if (length > 268435455) {\n",
    "    throw new ArgumentException(\"length is out of range\");\n",
    "}\n",
    "if (length > 2097151) {\n",
    "    writer.Write((byte)(0x80u | (0x7Fu & (length >> 21))));\n",
    "}\n",
    "if (length > 16383) {\n",
    "    writer.Write((byte)(0x80u | (0x7Fu & (length >> 14))));\n",
    "}\n",
    "if (length > 127) {\n",
    "    writer.Write((byte)(0x80u | (0x7Fu & (length >> 7))));\n",
    "}\n",
    "writer.Write((byte)(0x7Fu & length));\n",
    "```"
   ],
   "cell_type": "markdown",
   "metadata": {}
  },
  {
   "source": [
    "This means that if message length is < 128 bytes, then size takes 1 byte. 128 to 16382 takes 2 bytes and so on."
   ],
   "cell_type": "markdown",
   "metadata": {}
  },
  {
   "cell_type": "code",
   "execution_count": null,
   "metadata": {},
   "outputs": [],
   "source": []
  }
 ]
}